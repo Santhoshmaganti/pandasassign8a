{
 "cells": [
  {
   "cell_type": "code",
   "execution_count": 1,
   "id": "359ea7e6",
   "metadata": {},
   "outputs": [],
   "source": [
    "#primenumber\n",
    "def is_prime(n):\n",
    "    if n in [2, 3]:\n",
    "        return True\n",
    "    if (n == 1) or (n % 2 == 0):\n",
    "        return False\n",
    "    r = 3\n",
    "    while r * r <= n:\n",
    "        if n % r == 0:\n",
    "            return False\n",
    "        r += 2\n",
    "    return True\n",
    "#print(is_prime(78), is_prime(79))"
   ]
  },
  {
   "cell_type": "code",
   "execution_count": 3,
   "id": "500f0be9",
   "metadata": {},
   "outputs": [
    {
     "data": {
      "text/plain": [
       "False"
      ]
     },
     "execution_count": 3,
     "metadata": {},
     "output_type": "execute_result"
    }
   ],
   "source": [
    "is_prime(18)"
   ]
  },
  {
   "cell_type": "code",
   "execution_count": null,
   "id": "111b1192",
   "metadata": {},
   "outputs": [],
   "source": []
  },
  {
   "cell_type": "code",
   "execution_count": 5,
   "id": "33caf627",
   "metadata": {},
   "outputs": [],
   "source": [
    "def nameAge(name, age):\n",
    "    print(\"Hi, I am\", name)\n",
    "    print(\"My age is \", age)\n",
    " \n",
    " \n",
    "# You will get correct output because\n",
    "# argument is given in order\n",
    "#print(\"Case-1:\")\n",
    "#nameAge(\"Suraj\", 27)\n",
    "# You will get incorrect output because\n",
    "# argument is not in order\n",
    "#print(\"\\nCase-2:\")\n",
    "#nameAge(27, \"Suraj\")"
   ]
  },
  {
   "cell_type": "code",
   "execution_count": 7,
   "id": "4bbe1c1f",
   "metadata": {},
   "outputs": [
    {
     "name": "stdout",
     "output_type": "stream",
     "text": [
      "Hi, I am Santhosh\n",
      "My age is  13\n"
     ]
    }
   ],
   "source": [
    "nameAge(\"Santhosh\",13)"
   ]
  },
  {
   "cell_type": "code",
   "execution_count": 10,
   "id": "e6bef8ba",
   "metadata": {},
   "outputs": [
    {
     "name": "stdout",
     "output_type": "stream",
     "text": [
      "Hello\n",
      "Welcome\n",
      "to\n",
      "GeeksforGeeks\n"
     ]
    }
   ],
   "source": [
    "# Python program to illustrate\n",
    "# *args for variable number of arguments\n",
    "def myFun(*argv):\n",
    "    for arg in argv:\n",
    "        print(arg)\n",
    " \n",
    " \n",
    "myFun('Hello', 'Welcome', 'to', 'GeeksforGeeks')"
   ]
  },
  {
   "cell_type": "code",
   "execution_count": null,
   "id": "8c905f4c",
   "metadata": {},
   "outputs": [],
   "source": []
  },
  {
   "cell_type": "code",
   "execution_count": null,
   "id": "aec9991c",
   "metadata": {},
   "outputs": [],
   "source": [
    "def ticket(acc_no,location)\n",
    "    if acc_no==\n"
   ]
  },
  {
   "cell_type": "code",
   "execution_count": null,
   "id": "1ae231d0",
   "metadata": {},
   "outputs": [],
   "source": []
  },
  {
   "cell_type": "code",
   "execution_count": 3,
   "id": "19f3124f",
   "metadata": {},
   "outputs": [],
   "source": [
    "event={\"father\":\"veerabrahmmam\",\"mother\":\"ratnakumari\",\"elder_sister\":\"sravanthi\",\n",
    "       \"younger_sister\":\"sravani\",\"friend1\":\"harsha\",\"friend2\":\"hari\",\"friend3\":\"varun\",\"friend4\":\"vamsi\",\n",
    "       \"my_name\":\"santhosh\"}"
   ]
  },
  {
   "cell_type": "code",
   "execution_count": 4,
   "id": "d0cf24b3",
   "metadata": {},
   "outputs": [
    {
     "data": {
      "text/plain": [
       "'santhosh'"
      ]
     },
     "execution_count": 4,
     "metadata": {},
     "output_type": "execute_result"
    }
   ],
   "source": [
    "family[\"my_name\"]"
   ]
  },
  {
   "cell_type": "code",
   "execution_count": 5,
   "id": "ac681d48",
   "metadata": {},
   "outputs": [
    {
     "data": {
      "text/plain": [
       "'harsha'"
      ]
     },
     "execution_count": 5,
     "metadata": {},
     "output_type": "execute_result"
    }
   ],
   "source": [
    "family[\"friend1\"]"
   ]
  },
  {
   "cell_type": "code",
   "execution_count": 11,
   "id": "b8182779",
   "metadata": {},
   "outputs": [
    {
     "name": "stdout",
     "output_type": "stream",
     "text": [
      "sravanthi sravani\n"
     ]
    }
   ],
   "source": [
    "print(family[\"elder_sister\"],family[\"younger_sister\"])"
   ]
  },
  {
   "cell_type": "code",
   "execution_count": 23,
   "id": "3e8bc015",
   "metadata": {},
   "outputs": [
    {
     "name": "stdout",
     "output_type": "stream",
     "text": [
      "sravanthi\n",
      "sravani\n"
     ]
    }
   ],
   "source": [
    "for p in (family[\"elder_sister\"],family[\"younger_sister\"]):\n",
    "    print(p)\n",
    "    "
   ]
  },
  {
   "cell_type": "code",
   "execution_count": 9,
   "id": "0e38c388",
   "metadata": {},
   "outputs": [
    {
     "name": "stdout",
     "output_type": "stream",
     "text": [
      "sravanthi\n",
      "sravani\n",
      "harsha\n"
     ]
    }
   ],
   "source": [
    "for i in event:\n",
    "#     print(i)\n",
    "#     print(family[i])\n",
    "    if (event[i]==\"sravanthi\") or (event[i]==\"sravani\") or (event[i]==\"harsha\"):\n",
    "        print(event[i])\n",
    "    "
   ]
  },
  {
   "cell_type": "code",
   "execution_count": null,
   "id": "1740c816",
   "metadata": {},
   "outputs": [],
   "source": []
  },
  {
   "cell_type": "code",
   "execution_count": 42,
   "id": "40664df5",
   "metadata": {},
   "outputs": [],
   "source": [
    "food_names={\"fav1\":\"panner\",\"fav2\":\"mushroom\",\"fav3\":\"aloo\",\"fav4\":\"kaju\",\"fav5\":\"baby corn\",\n",
    "            \"fav6\":\"chicken roast biryani\",\"fav7\":\"mutton dhum biryani\",\"fav8\":\"fish fry\",\n",
    "            \"fav9\":\"prawns biryani\",\"fav10\":\"chicken manchuria\"}"
   ]
  },
  {
   "cell_type": "code",
   "execution_count": 50,
   "id": "a6b3e0f9",
   "metadata": {},
   "outputs": [
    {
     "name": "stdout",
     "output_type": "stream",
     "text": [
      "chicken roast biryani\n",
      "chicken manchuria\n"
     ]
    }
   ],
   "source": [
    "for i in food_names:\n",
    "    if (food_names[i]==\"chicken roast biryani\") or (food_names[i]==\"chicken manchuria\"):\n",
    "        print(food_names[i])"
   ]
  },
  {
   "cell_type": "code",
   "execution_count": null,
   "id": "6e28b002",
   "metadata": {},
   "outputs": [],
   "source": []
  },
  {
   "cell_type": "code",
   "execution_count": 11,
   "id": "79d31b7f",
   "metadata": {},
   "outputs": [],
   "source": [
    "\n",
    "    for i in event:\n",
    "        if (event[i]==\"Veerabrahmmam\") or (event[i]==\"Ratnakumari\"):\n",
    "            print(\"favourite\",event[i])\n",
    "        elif (event[i]==\"Sravanthi\") or (event[i]==\"Sravani\"):\n",
    "            print(\"unfavourite\",event[i])\n"
   ]
  },
  {
   "cell_type": "code",
   "execution_count": 53,
   "id": "9ded870a",
   "metadata": {},
   "outputs": [],
   "source": [
    "\n",
    "event={\"name\":\"santhosh\",\"a/c.no\":123456789,\"amount\":50000,\"credit_type\":\"debit\",\"loan\":\"yes\",\"location\":\"non_metro\",\"age\":25,\"employment_type\":\"business\"}\n",
    "def details(event):\n",
    "    balance=100000\n",
    "    if event[\"name\"]==\"santhosh\":\n",
    "        if event[\"credit_type\"]==\"debit\":\n",
    "            balance=balance-event[\"amount\"]\n",
    "            if event[\"loan\"]==\"yes\":\n",
    "                balance=balance-1000\n",
    "                if event[\"location\"]==\"non_metro\":\n",
    "                    balance=balance-2000\n",
    "                    if event[\"age\"]>=25:\n",
    "                        balance=balance+18000\n",
    "                        if event[\"employment_type\"]==\"salaried\":\n",
    "                            balance=balance+0\n",
    "                        elif event[\"employment_type\"]==\"individual\":\n",
    "                            balance=balance+1000\n",
    "                        elif event[\"employment_type\"]==\"business\":\n",
    "                            balance=balance+500\n",
    "    \n",
    "    return(balance)"
   ]
  },
  {
   "cell_type": "code",
   "execution_count": 54,
   "id": "13415c04",
   "metadata": {},
   "outputs": [
    {
     "data": {
      "text/plain": [
       "65500"
      ]
     },
     "execution_count": 54,
     "metadata": {},
     "output_type": "execute_result"
    }
   ],
   "source": [
    "details(event)"
   ]
  },
  {
   "cell_type": "code",
   "execution_count": 57,
   "id": "5e0ba649",
   "metadata": {},
   "outputs": [],
   "source": [
    "event={\"name\":\"santhosh\",\"a/c.no\":123456789,\"amount\":50000,\"credit_type\":\"credit\",\"loan\":\"no\",\"location\":\"metro\",\"age\":2,\"employment_type\":\"business\"}\n",
    "def details(event):\n",
    "    balance=100000\n",
    "    if event[\"name\"]==\"santhosh\":\n",
    "        if event[\"credit_type\"]==\"credit\":\n",
    "            balance=balance+event[\"amount\"]\n",
    "            if event[\"loan\"]==\"no\":\n",
    "                balance=balance+1000\n",
    "                if event[\"location\"]==\"metro\":\n",
    "                    balance=balance+2000\n",
    "                    if event[\"age\"]<25:\n",
    "                        balance=balance+0\n",
    "                        if event[\"employment_type\"]==\"salaried\":\n",
    "                            balance=balance+0\n",
    "                        elif event[\"employment_type\"]==\"individual\":\n",
    "                            balance=balance+1000\n",
    "                        elif event[\"employment_type\"]==\"business\":\n",
    "                            balance=balance+500\n",
    "    return(balance)"
   ]
  },
  {
   "cell_type": "code",
   "execution_count": 58,
   "id": "33b4de54",
   "metadata": {},
   "outputs": [
    {
     "data": {
      "text/plain": [
       "153500"
      ]
     },
     "execution_count": 58,
     "metadata": {},
     "output_type": "execute_result"
    }
   ],
   "source": [
    "details(event)"
   ]
  },
  {
   "cell_type": "code",
   "execution_count": 19,
   "id": "278da0dd",
   "metadata": {},
   "outputs": [],
   "source": [
    "balance=100000\n",
    "event={\"name\":\"santhosh\",\"a/c.no\":123456789,\"amount\":50000,\"credit_type\":\"credit\",\"loan\":\"yes\",\"location\":\"non_metro\",\"age\":25,\"employment_type\":\"individual\"}\n",
    "def details(event):\n",
    "    if event[\"name\"]==\"santhosh\":\n",
    "        if event[\"credit_type\"]==\"debit\":\n",
    "            balance=balance-event[\"amount\"]\n",
    "            if event[\"loan\"]==\"yes\":\n",
    "                balance=balance+1000\n",
    "                if event[\"location\"]==\"non_metro\":\n",
    "                    balance=balance-2000\n",
    "                    if event[\"age\"]>=25:\n",
    "                        balance=balance+18000\n",
    "                        if event[\"employment_type\"]==\"salaried\":\n",
    "                            balance=balance+0\n",
    "                        elif event[\"employment_type\"]==\"individual\":\n",
    "                            balance=balance+1000\n",
    "                        elif event[\"employment_type\"]==\"business\":\n",
    "                            balance=balance+500\n",
    "                            \n",
    "    elif event[\"credit_type\"]==\"credit\":\n",
    "        balance=balance+1000\n",
    "        if event[\"loan\"]==\"no\":\n",
    "            balance=balance+1000\n",
    "            if event[\"location\"]==\"metro\":\n",
    "                    balance=balance-2000\n",
    "                    if event[\"age\"]<25:\n",
    "                        balance=balance+0\n",
    "                        if event[\"employment_type\"]==\"salaried\":\n",
    "                            balance=balance+0\n",
    "                        elif event[\"employment_type\"]==\"individual\":\n",
    "                            balance=balance+1000\n",
    "                        elif event[\"employment_type\"]==\"business\":\n",
    "                            balance=balance+500\n",
    "    return(balance)\n",
    "            \n",
    "                    "
   ]
  },
  {
   "cell_type": "code",
   "execution_count": 20,
   "id": "17eaa31d",
   "metadata": {},
   "outputs": [
    {
     "ename": "UnboundLocalError",
     "evalue": "local variable 'balance' referenced before assignment",
     "output_type": "error",
     "traceback": [
      "\u001b[1;31m---------------------------------------------------------------------------\u001b[0m",
      "\u001b[1;31mUnboundLocalError\u001b[0m                         Traceback (most recent call last)",
      "Cell \u001b[1;32mIn[20], line 1\u001b[0m\n\u001b[1;32m----> 1\u001b[0m \u001b[43mdetails\u001b[49m\u001b[43m(\u001b[49m\u001b[43mevent\u001b[49m\u001b[43m)\u001b[49m\n",
      "Cell \u001b[1;32mIn[19], line 34\u001b[0m, in \u001b[0;36mdetails\u001b[1;34m(event)\u001b[0m\n\u001b[0;32m     32\u001b[0m                     \u001b[38;5;28;01melif\u001b[39;00m event[\u001b[38;5;124m\"\u001b[39m\u001b[38;5;124memployment_type\u001b[39m\u001b[38;5;124m\"\u001b[39m]\u001b[38;5;241m==\u001b[39m\u001b[38;5;124m\"\u001b[39m\u001b[38;5;124mbusiness\u001b[39m\u001b[38;5;124m\"\u001b[39m:\n\u001b[0;32m     33\u001b[0m                         balance\u001b[38;5;241m=\u001b[39mbalance\u001b[38;5;241m+\u001b[39m\u001b[38;5;241m500\u001b[39m\n\u001b[1;32m---> 34\u001b[0m \u001b[38;5;28;01mreturn\u001b[39;00m(\u001b[43mbalance\u001b[49m)\n",
      "\u001b[1;31mUnboundLocalError\u001b[0m: local variable 'balance' referenced before assignment"
     ]
    }
   ],
   "source": [
    "details(event)"
   ]
  },
  {
   "cell_type": "code",
   "execution_count": null,
   "id": "1abcbbee",
   "metadata": {},
   "outputs": [],
   "source": []
  },
  {
   "cell_type": "code",
   "execution_count": 75,
   "id": "94e9589a",
   "metadata": {},
   "outputs": [
    {
     "ename": "SyntaxError",
     "evalue": "invalid syntax (3595696277.py, line 7)",
     "output_type": "error",
     "traceback": [
      "\u001b[1;36m  Cell \u001b[1;32mIn[75], line 7\u001b[1;36m\u001b[0m\n\u001b[1;33m    elif event[\"credit_type\"]==\"credit\":\u001b[0m\n\u001b[1;37m    ^\u001b[0m\n\u001b[1;31mSyntaxError\u001b[0m\u001b[1;31m:\u001b[0m invalid syntax\n"
     ]
    }
   ],
   "source": [
    "event={\"name\":\"santhosh\",\"a/c.no\":123456789,\"amount\":50000,\"credit_type\":\"credit\",\"loan\":\"no\",\"location\":\"metro\",\"age\":25,\"employment_type\":\"individual\"}\n",
    "def details(event):\n",
    "    balance=100000\n",
    "    if event[\"name\"]==\"santhosh\":\n",
    "        if event[\"credit_type\"]==\"debit\":\n",
    "            balance=balance-event[\"amount\"]\n",
    "            elif event[\"credit_type\"]==\"credit\":\n",
    "                balance=balance+event[\"amount\"]\n",
    "            if event[\"loan\"]==\"yes\":\n",
    "                balance=balance-1000\n",
    "                elif event[\"loan\"]==\"no\":\n",
    "                    balance=balance+1000\n",
    "                if event[\"location\"]==\"non_metro\":\n",
    "                    balance=balance-2000\n",
    "                    elif event[\"location\"]==\"metro\":\n",
    "                        balance=balance+2000\n",
    "                    if event[\"age\"]>=25:\n",
    "                        balance=balance+18000\n",
    "                        elif event[\"age\"]<25:\n",
    "                            balance=balance+0\n",
    "                        if event[\"employment_type\"]==\"salaried\":\n",
    "                            balance=balance+0\n",
    "                        elif event[\"employment_type\"]==\"individual\":\n",
    "                            balance=balance+1000\n",
    "                        elif event[\"employment_type\"]==\"business\":\n",
    "                            balance=balance+500\n",
    "        elif event[\"credit_type\"]==\"credit\":\n",
    "            balance=balance+event[\"amount\"]\n",
    "            if event[\"loan\"]==\"no\":\n",
    "                balance=balance+1000\n",
    "                if event[\"location\"]==\"metro\":\n",
    "                    balance=balance+2000\n",
    "                    if event[\"age\"]<25:\n",
    "                        balance=balance+0\n",
    "                        if event[\"employment_type\"]==\"salaried\":\n",
    "                            balance=balance+0\n",
    "                        elif event[\"employment_type\"]==\"individual\":\n",
    "                            balance=balance+1000\n",
    "                        elif event[\"employment_type\"]==\"business\":\n",
    "                            balance=balance+500\n",
    "    return(balance)\n",
    "     "
   ]
  },
  {
   "cell_type": "code",
   "execution_count": 62,
   "id": "565ad0f3",
   "metadata": {},
   "outputs": [
    {
     "data": {
      "text/plain": [
       "100000"
      ]
     },
     "execution_count": 62,
     "metadata": {},
     "output_type": "execute_result"
    }
   ],
   "source": [
    "details(event)"
   ]
  },
  {
   "cell_type": "code",
   "execution_count": null,
   "id": "27e0a170",
   "metadata": {},
   "outputs": [],
   "source": []
  },
  {
   "cell_type": "code",
   "execution_count": 76,
   "id": "da2c6208",
   "metadata": {},
   "outputs": [],
   "source": [
    "event={\"name\":\"santhosh\",\"a/c.no\":123456789,\"amount\":40000,\"credit_type\":\"credit\",\"loan\":\"no\",\"location\":\"metro\",\"age\":25,\"employment_type\":\"individual\"}\n",
    "def details(event):\n",
    "    balance=100000\n",
    "    if event[\"name\"]==\"santhosh\":\n",
    "        if event[\"credit_type\"]==\"debit\":\n",
    "            balance=balance-event[\"amount\"]\n",
    "        elif event[\"credit_type\"]==\"credit\":\n",
    "            balance=balance+event[\"amount\"]\n",
    "        if event[\"loan\"]==\"yes\":\n",
    "            balance=balance-1000\n",
    "        elif event[\"loan\"]==\"no\":\n",
    "            balance=balance+1000\n",
    "        if event[\"location\"]==\"non_metro\":\n",
    "            balance=balance-2000\n",
    "        elif event[\"location\"]==\"metro\":\n",
    "            balance=balance+2000\n",
    "        if event[\"age\"]>25:\n",
    "            balance=balance+18000\n",
    "        elif event[\"age\"]<=25:\n",
    "            balance=balance+0\n",
    "        if event[\"employment_type\"]==\"salaried\":\n",
    "            balance=balance+0\n",
    "        elif event[\"employment_type\"]==\"individual\":\n",
    "            balance=balance+1000\n",
    "        elif event[\"employment_type\"]==\"business\":\n",
    "            balance=balance+500\n",
    "    return(balance)"
   ]
  },
  {
   "cell_type": "code",
   "execution_count": 77,
   "id": "2cdb1704",
   "metadata": {},
   "outputs": [
    {
     "data": {
      "text/plain": [
       "144000"
      ]
     },
     "execution_count": 77,
     "metadata": {},
     "output_type": "execute_result"
    }
   ],
   "source": [
    "details(event)"
   ]
  },
  {
   "cell_type": "code",
   "execution_count": null,
   "id": "b7d4b506",
   "metadata": {},
   "outputs": [],
   "source": []
  },
  {
   "cell_type": "code",
   "execution_count": 64,
   "id": "0eca4905",
   "metadata": {},
   "outputs": [],
   "source": [
    "event={\"name\":\"santhosh\",\"a/c.no\":123456789,\"amount\":94000,\"credit_type\":\"debit\",\"loan\":\"yes\",\"location\":\"non_metro\",\"age\":22,\"employment_type\":\"salaried\"}\n",
    "def details(event):\n",
    "    balance=100000\n",
    "    if event[\"name\"]==\"santhosh\" and event[\"a/c.no\"]==123456789:\n",
    "        if event[\"credit_type\"]==\"debit\":\n",
    "            balance=balance-event[\"amount\"]\n",
    "            if event[\"loan\"]==\"yes\":\n",
    "                balance=balance-1000\n",
    "                if event[\"location\"]==\"metro\":\n",
    "                    balance=balance+2000\n",
    "                    if event[\"age\"]>25:\n",
    "                        balance=balance+18000\n",
    "                    elif event[\"age\"]<=25:\n",
    "                        balance=balance+0\n",
    "                        if event[\"employment_type\"]==\"individual\":\n",
    "                            balance=balance+1000\n",
    "                        elif event[\"employment_type\"]==\"salaried\":\n",
    "                            balance=balance+0\n",
    "                        elif event[\"employment_type\"]==\"business\":\n",
    "                            balance=balance+500\n",
    "            elif event[\"loan\"]==\"no\":\n",
    "                balance=balance+1000\n",
    "                if event[\"location\"]==\"metro\":\n",
    "                    balance=balance+2000\n",
    "                    if event[\"age\"]>25:\n",
    "                        balance=balance+18000\n",
    "                    elif event[\"age\"]<=25:\n",
    "                        balance=balance+0\n",
    "                        if event[\"employment_type\"]==\"individual\":\n",
    "                            balance=balance+1000\n",
    "                        elif event[\"employment_type\"]==\"salaried\":\n",
    "                            balance=balance+0\n",
    "                        elif event[\"employment_type\"]==\"business\":\n",
    "                            balance=balance+500\n",
    "            elif event[\"loan\"]==\"yes\":\n",
    "                balance=balance-1000\n",
    "                if event[\"location\"]==\"non_metro\":\n",
    "                    balance=balance-2000\n",
    "                    if event[\"age\"]>25:\n",
    "                        balance=balance+18000\n",
    "                    elif event[\"age\"]<=25:\n",
    "                        balance=balance+0\n",
    "                        if event[\"employment_type\"]==\"individual\":\n",
    "                            balance=balance+1000\n",
    "                        elif event[\"employment_type\"]==\"salaried\":\n",
    "                            balance=balance+0\n",
    "                        elif event[\"employment_type\"]==\"business\":\n",
    "                            balance=balance+500\n",
    "            elif event[\"loan\"]==\"no\":\n",
    "                balance=balance+1000\n",
    "                if event[\"location\"]==\"non_metro\":\n",
    "                    balance=balance-2000\n",
    "                    if event[\"age\"]>25:\n",
    "                        balance=balance+18000\n",
    "                    elif event[\"age\"]<=25:\n",
    "                        balance=balance+0\n",
    "                        if event[\"employment_type\"]==\"individual\":\n",
    "                            balance=balance+1000\n",
    "                        elif event[\"employment_type\"]==\"salaried\":\n",
    "                            balance=balance+0\n",
    "                        elif event[\"employment_type\"]==\"business\":\n",
    "                            balance=balance+500\n",
    "                            \n",
    "        elif event[\"credit_type\"]==\"credit\":\n",
    "            balance=balance+event[\"amount\"]\n",
    "            if event[\"loan\"]==\"yes\":\n",
    "                balance=balance-1000\n",
    "                if event[\"location\"]==\"metro\":\n",
    "                    balance=balance+2000\n",
    "                    if event[\"age\"]>25:\n",
    "                        balance=balance+18000\n",
    "                    elif event[\"age\"]<=25:\n",
    "                        balance=balance+0\n",
    "                        if event[\"employment_type\"]==\"individual\":\n",
    "                            balance=balance+1000\n",
    "                        elif event[\"employment_type\"]==\"salaried\":\n",
    "                            balance=balance+0\n",
    "                        elif event[\"employment_type\"]==\"business\":\n",
    "                            balance=balance+500\n",
    "            elif event[\"loan\"]==\"no\":\n",
    "                balance=balance+1000\n",
    "                if event[\"location\"]==\"metro\":\n",
    "                    balance=balance+2000\n",
    "                    if event[\"age\"]>25:\n",
    "                        balance=balance+18000\n",
    "                    elif event[\"age\"]<=25:\n",
    "                        balance=balance+0\n",
    "                        if event[\"employment_type\"]==\"individual\":\n",
    "                            balance=balance+1000\n",
    "                        elif event[\"employment_type\"]==\"salaried\":\n",
    "                            balance=balance+0\n",
    "                        elif event[\"employment_type\"]==\"business\":\n",
    "                            balance=balance+500\n",
    "            elif event[\"loan\"]==\"yes\":\n",
    "                balance=balance-1000\n",
    "                if event[\"location\"]==\"non_metro\":\n",
    "                    balance=balance-2000\n",
    "                    if event[\"age\"]>25:\n",
    "                        balance=balance+18000\n",
    "                    elif event[\"age\"]<=25:\n",
    "                        balance=balance+0\n",
    "                        if event[\"employment_type\"]==\"individual\":\n",
    "                            balance=balance+1000\n",
    "                        elif event[\"employment_type\"]==\"salaried\":\n",
    "                            balance=balance+0\n",
    "                        elif event[\"employment_type\"]==\"business\":\n",
    "                            balance=balance+500\n",
    "            elif event[\"loan\"]==\"no\":\n",
    "                balance=balance-1000\n",
    "                if event[\"location\"]==\"non_metro\":\n",
    "                    balance=balance-2000\n",
    "                    if event[\"age\"]>25:\n",
    "                        balance=balance+18000\n",
    "                    elif event[\"age\"]<=25:\n",
    "                        balance=balance+0\n",
    "                        if event[\"employment_type\"]==\"individual\":\n",
    "                            balance=balance+1000\n",
    "                        elif event[\"employment_type\"]==\"salaried\":\n",
    "                            balance=balance+0\n",
    "                        elif event[\"employment_type\"]==\"business\":\n",
    "                            balance=balance+500\n",
    "    return(balance)\n",
    "                            "
   ]
  },
  {
   "cell_type": "code",
   "execution_count": 65,
   "id": "cb40546f",
   "metadata": {},
   "outputs": [
    {
     "data": {
      "text/plain": [
       "5000"
      ]
     },
     "execution_count": 65,
     "metadata": {},
     "output_type": "execute_result"
    }
   ],
   "source": [
    "details(event)"
   ]
  },
  {
   "cell_type": "code",
   "execution_count": null,
   "id": "31c3c5ef",
   "metadata": {},
   "outputs": [],
   "source": []
  },
  {
   "cell_type": "code",
   "execution_count": null,
   "id": "bbdf004b",
   "metadata": {},
   "outputs": [],
   "source": []
  }
 ],
 "metadata": {
  "kernelspec": {
   "display_name": "Python 3 (ipykernel)",
   "language": "python",
   "name": "python3"
  },
  "language_info": {
   "codemirror_mode": {
    "name": "ipython",
    "version": 3
   },
   "file_extension": ".py",
   "mimetype": "text/x-python",
   "name": "python",
   "nbconvert_exporter": "python",
   "pygments_lexer": "ipython3",
   "version": "3.10.9"
  }
 },
 "nbformat": 4,
 "nbformat_minor": 5
}
